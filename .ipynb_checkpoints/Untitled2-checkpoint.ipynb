{
 "cells": [
  {
   "cell_type": "code",
   "execution_count": 1,
   "metadata": {},
   "outputs": [],
   "source": [
    "import pandas as pd\n",
    "import numpy as np"
   ]
  },
  {
   "cell_type": "code",
   "execution_count": 2,
   "metadata": {},
   "outputs": [
    {
     "data": {
      "text/plain": [
       "51821"
      ]
     },
     "execution_count": 2,
     "metadata": {},
     "output_type": "execute_result"
    }
   ],
   "source": [
    "csv_data = pd.read_csv('interventions.csv')\n",
    "df = pd.DataFrame(csv_data)\n",
    "\n",
    "len(df)"
   ]
  },
  {
   "cell_type": "code",
   "execution_count": 3,
   "metadata": {},
   "outputs": [
    {
     "data": {
      "text/plain": [
       "id                          int64\n",
       "intervention_type          object\n",
       "intervention               object\n",
       "intervention_others        object\n",
       "intervention_details       object\n",
       "multi_year                  int64\n",
       "target_1                  float64\n",
       "target_2                  float64\n",
       "target_3                  float64\n",
       "target_4                  float64\n",
       "target_5                  float64\n",
       "target_6                  float64\n",
       "investment_1              float64\n",
       "investment_2              float64\n",
       "investment_3              float64\n",
       "investment_4              float64\n",
       "investment_5              float64\n",
       "investment_6              float64\n",
       "investment_total          float64\n",
       "municipalities_1            int64\n",
       "municipalities_2            int64\n",
       "municipalities_3            int64\n",
       "municipalities_4            int64\n",
       "municipalities_5            int64\n",
       "municipalities_6            int64\n",
       "fund_source                object\n",
       "remarks                    object\n",
       "operating_unit_id           int64\n",
       "spatial_coverage_id         int64\n",
       "region_id                   int64\n",
       "province_id                 int64\n",
       "commodity_group_id          int64\n",
       "commodity_id                int64\n",
       "value_chain_segment_id      int64\n",
       "program_id                  int64\n",
       "subprogram_id               int64\n",
       "unit_id                     int64\n",
       "dtype: object"
      ]
     },
     "execution_count": 3,
     "metadata": {},
     "output_type": "execute_result"
    }
   ],
   "source": [
    "df.dtypes"
   ]
  },
  {
   "cell_type": "code",
   "execution_count": 4,
   "metadata": {},
   "outputs": [
    {
     "data": {
      "text/plain": [
       "count    51821.000000\n",
       "mean         1.077034\n",
       "std          0.320184\n",
       "min          0.000000\n",
       "25%          1.000000\n",
       "50%          1.000000\n",
       "75%          1.000000\n",
       "max          2.000000\n",
       "Name: multi_year, dtype: float64"
      ]
     },
     "execution_count": 4,
     "metadata": {},
     "output_type": "execute_result"
    }
   ],
   "source": [
    "df['multi_year'].describe()"
   ]
  },
  {
   "cell_type": "code",
   "execution_count": 5,
   "metadata": {},
   "outputs": [],
   "source": [
    "df.loc[df.multi_year > 1,'multi_year'] = 0"
   ]
  },
  {
   "cell_type": "code",
   "execution_count": 6,
   "metadata": {},
   "outputs": [
    {
     "data": {
      "text/plain": [
       "array([0, 0, 0, ..., 1, 1, 1], dtype=int64)"
      ]
     },
     "execution_count": 6,
     "metadata": {},
     "output_type": "execute_result"
    }
   ],
   "source": [
    "df['multi_year'].values"
   ]
  },
  {
   "cell_type": "code",
   "execution_count": 7,
   "metadata": {},
   "outputs": [],
   "source": [
    "df.replace(r'\\n', '; ', regex = True, inplace = True)\n",
    "df['remarks'] = df[df['remarks']=np.nan]"
   ]
  },
  {
   "cell_type": "code",
   "execution_count": 8,
   "metadata": {},
   "outputs": [],
   "source": [
    "df.to_csv('interventions2.csv',index=False)"
   ]
  },
  {
   "cell_type": "code",
   "execution_count": null,
   "metadata": {},
   "outputs": [],
   "source": []
  }
 ],
 "metadata": {
  "kernelspec": {
   "display_name": "Python 3",
   "language": "python",
   "name": "python3"
  },
  "language_info": {
   "codemirror_mode": {
    "name": "ipython",
    "version": 3
   },
   "file_extension": ".py",
   "mimetype": "text/x-python",
   "name": "python",
   "nbconvert_exporter": "python",
   "pygments_lexer": "ipython3",
   "version": "3.7.6"
  }
 },
 "nbformat": 4,
 "nbformat_minor": 4
}
