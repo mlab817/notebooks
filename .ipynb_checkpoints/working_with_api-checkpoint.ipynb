{
 "cells": [
  {
   "cell_type": "code",
   "execution_count": 2,
   "metadata": {},
   "outputs": [],
   "source": [
    "import numpy as np\n",
    "import pandas as pd\n",
    "import requests # handles request from url\n",
    "import json # converts data obtained to json"
   ]
  },
  {
   "cell_type": "code",
   "execution_count": 3,
   "metadata": {},
   "outputs": [
    {
     "name": "stdout",
     "output_type": "stream",
     "text": [
      "{\n",
      "    \"_id\": 79776140,\n",
      "    \"_links\": {\n",
      "        \"chat\": \"https://api.twitch.tv/kraken/chat/freecodecamp\",\n",
      "        \"commercial\": \"https://api.twitch.tv/kraken/channels/freecodecamp/commercial\",\n",
      "        \"editors\": \"https://api.twitch.tv/kraken/channels/freecodecamp/editors\",\n",
      "        \"follows\": \"https://api.twitch.tv/kraken/channels/freecodecamp/follows\",\n",
      "        \"self\": \"https://api.twitch.tv/kraken/channels/freecodecamp\",\n",
      "        \"stream_key\": \"https://api.twitch.tv/kraken/channels/freecodecamp/stream_key\",\n",
      "        \"subscriptions\": \"https://api.twitch.tv/kraken/channels/freecodecamp/subscriptions\",\n",
      "        \"teams\": \"https://api.twitch.tv/kraken/channels/freecodecamp/teams\",\n",
      "        \"videos\": \"https://api.twitch.tv/kraken/channels/freecodecamp/videos\"\n",
      "    },\n",
      "    \"background\": null,\n",
      "    \"banner\": null,\n",
      "    \"broadcaster_language\": \"en\",\n",
      "    \"created_at\": \"2015-01-14T03:36:47Z\",\n",
      "    \"delay\": null,\n",
      "    \"display_name\": \"FreeCodeCamp\",\n",
      "    \"followers\": 10122,\n",
      "    \"game\": \"Creative\",\n",
      "    \"language\": \"en\",\n",
      "    \"logo\": \"https://static-cdn.jtvnw.net/jtv_user_pictures/freecodecamp-profile_image-d9514f2df0962329-300x300.png\",\n",
      "    \"mature\": false,\n",
      "    \"name\": \"freecodecamp\",\n",
      "    \"partner\": false,\n",
      "    \"profile_banner\": \"https://static-cdn.jtvnw.net/jtv_user_pictures/freecodecamp-profile_banner-6f5e3445ff474aec-480.png\",\n",
      "    \"profile_banner_background_color\": null,\n",
      "    \"status\": \"Greg working on Electron-Vue boilerplate w/ Akira #programming #vuejs #electron\",\n",
      "    \"updated_at\": \"2016-10-10T22:02:01Z\",\n",
      "    \"url\": \"https://www.twitch.tv/freecodecamp\",\n",
      "    \"video_banner\": \"https://static-cdn.jtvnw.net/jtv_user_pictures/freecodecamp-channel_offline_image-b8e133c78cd51cb0-1920x1080.png\",\n",
      "    \"views\": 163747\n",
      "}\n"
     ]
    }
   ],
   "source": [
    "url = \"https://wind-bow.glitch.me/twitch-api/channels/freecodecamp\"\n",
    "JSONContent = requests.get(url).json()\n",
    "# prepare json for dumping\n",
    "content = json.dumps(JSONContent, indent = 4, sort_keys=True)\n",
    "print(content)"
   ]
  },
  {
   "cell_type": "code",
   "execution_count": 6,
   "metadata": {},
   "outputs": [],
   "source": [
    "# List of channels we want to access\n",
    "channels = [\"ESL_SC2\", \"OgamingSC2\", \"cretetion\", \"freecodecamp\", \"storbeck\", \"habathcx\", \"RobotCaleb\", \"noobs2ninjas\",\n",
    "            \"ninja\", \"shroud\", \"Dakotaz\", \"esltv_cs\", \"pokimane\", \"tsm_bjergsen\", \"boxbox\", \"wtcn\", \"a_seagull\",\n",
    "           \"kinggothalion\", \"amazhs\", \"jahrein\", \"thenadeshot\", \"sivhd\", \"kingrichard\"]"
   ]
  },
  {
   "cell_type": "code",
   "execution_count": 7,
   "metadata": {},
   "outputs": [],
   "source": [
    "channels_list = []\n",
    "# For each channel, we access its information through its API\n",
    "for channel in channels:\n",
    "    JSONContent = requests.get(\"https://wind-bow.glitch.me/twitch-api/channels/\" + channel).json()\n",
    "    if 'error' not in JSONContent:\n",
    "        channels_list.append([JSONContent['_id'], JSONContent['display_name'], JSONContent['status'],\n",
    "                             JSONContent['followers'], JSONContent['views']])"
   ]
  },
  {
   "cell_type": "code",
   "execution_count": 10,
   "metadata": {},
   "outputs": [],
   "source": [
    "# define DataFrame using pandas\n",
    "dataset = pd.DataFrame(channels_list)"
   ]
  },
  {
   "cell_type": "code",
   "execution_count": 11,
   "metadata": {},
   "outputs": [
    {
     "data": {
      "text/html": [
       "<div>\n",
       "<style scoped>\n",
       "    .dataframe tbody tr th:only-of-type {\n",
       "        vertical-align: middle;\n",
       "    }\n",
       "\n",
       "    .dataframe tbody tr th {\n",
       "        vertical-align: top;\n",
       "    }\n",
       "\n",
       "    .dataframe thead th {\n",
       "        text-align: right;\n",
       "    }\n",
       "</style>\n",
       "<table border=\"1\" class=\"dataframe\">\n",
       "  <thead>\n",
       "    <tr style=\"text-align: right;\">\n",
       "      <th></th>\n",
       "      <th>0</th>\n",
       "      <th>1</th>\n",
       "      <th>2</th>\n",
       "      <th>3</th>\n",
       "      <th>4</th>\n",
       "    </tr>\n",
       "  </thead>\n",
       "  <tbody>\n",
       "    <tr>\n",
       "      <th>1</th>\n",
       "      <td>71852806</td>\n",
       "      <td>OgamingSC2</td>\n",
       "      <td>UnderDogs - Rediffusion - Qualifier.</td>\n",
       "      <td>40895</td>\n",
       "      <td>20694507</td>\n",
       "    </tr>\n",
       "    <tr>\n",
       "      <th>6</th>\n",
       "      <td>54925078</td>\n",
       "      <td>RobotCaleb</td>\n",
       "      <td>Code wrangling</td>\n",
       "      <td>20</td>\n",
       "      <td>4602</td>\n",
       "    </tr>\n",
       "    <tr>\n",
       "      <th>5</th>\n",
       "      <td>6726509</td>\n",
       "      <td>Habathcx</td>\n",
       "      <td>Massively Effective</td>\n",
       "      <td>14</td>\n",
       "      <td>764</td>\n",
       "    </tr>\n",
       "    <tr>\n",
       "      <th>3</th>\n",
       "      <td>79776140</td>\n",
       "      <td>FreeCodeCamp</td>\n",
       "      <td>Greg working on Electron-Vue boilerplate w/ Ak...</td>\n",
       "      <td>10122</td>\n",
       "      <td>163747</td>\n",
       "    </tr>\n",
       "    <tr>\n",
       "      <th>2</th>\n",
       "      <td>90401618</td>\n",
       "      <td>cretetion</td>\n",
       "      <td>It's a Divison kind of Day</td>\n",
       "      <td>908</td>\n",
       "      <td>11631</td>\n",
       "    </tr>\n",
       "  </tbody>\n",
       "</table>\n",
       "</div>"
      ],
      "text/plain": [
       "          0             1                                                  2  \\\n",
       "1  71852806    OgamingSC2               UnderDogs - Rediffusion - Qualifier.   \n",
       "6  54925078    RobotCaleb                                     Code wrangling   \n",
       "5   6726509      Habathcx                                Massively Effective   \n",
       "3  79776140  FreeCodeCamp  Greg working on Electron-Vue boilerplate w/ Ak...   \n",
       "2  90401618     cretetion                         It's a Divison kind of Day   \n",
       "\n",
       "       3         4  \n",
       "1  40895  20694507  \n",
       "6     20      4602  \n",
       "5     14       764  \n",
       "3  10122    163747  \n",
       "2    908     11631  "
      ]
     },
     "execution_count": 11,
     "metadata": {},
     "output_type": "execute_result"
    }
   ],
   "source": [
    "# get sample data\n",
    "dataset.sample(5)"
   ]
  },
  {
   "cell_type": "code",
   "execution_count": 13,
   "metadata": {},
   "outputs": [],
   "source": [
    "# rename columns\n",
    "dataset.columns = ['_id', 'display_name', 'status', 'followers','views']"
   ]
  },
  {
   "cell_type": "code",
   "execution_count": 14,
   "metadata": {},
   "outputs": [
    {
     "data": {
      "text/html": [
       "<div>\n",
       "<style scoped>\n",
       "    .dataframe tbody tr th:only-of-type {\n",
       "        vertical-align: middle;\n",
       "    }\n",
       "\n",
       "    .dataframe tbody tr th {\n",
       "        vertical-align: top;\n",
       "    }\n",
       "\n",
       "    .dataframe thead th {\n",
       "        text-align: right;\n",
       "    }\n",
       "</style>\n",
       "<table border=\"1\" class=\"dataframe\">\n",
       "  <thead>\n",
       "    <tr style=\"text-align: right;\">\n",
       "      <th></th>\n",
       "      <th>_id</th>\n",
       "      <th>display_name</th>\n",
       "      <th>status</th>\n",
       "      <th>followers</th>\n",
       "      <th>views</th>\n",
       "    </tr>\n",
       "  </thead>\n",
       "  <tbody>\n",
       "    <tr>\n",
       "      <th>0</th>\n",
       "      <td>30220059</td>\n",
       "      <td>ESL_SC2</td>\n",
       "      <td>RERUN: StarCraft 2 - Terminator vs. Parting (P...</td>\n",
       "      <td>135394</td>\n",
       "      <td>60991791</td>\n",
       "    </tr>\n",
       "    <tr>\n",
       "      <th>1</th>\n",
       "      <td>71852806</td>\n",
       "      <td>OgamingSC2</td>\n",
       "      <td>UnderDogs - Rediffusion - Qualifier.</td>\n",
       "      <td>40895</td>\n",
       "      <td>20694507</td>\n",
       "    </tr>\n",
       "    <tr>\n",
       "      <th>2</th>\n",
       "      <td>90401618</td>\n",
       "      <td>cretetion</td>\n",
       "      <td>It's a Divison kind of Day</td>\n",
       "      <td>908</td>\n",
       "      <td>11631</td>\n",
       "    </tr>\n",
       "    <tr>\n",
       "      <th>3</th>\n",
       "      <td>79776140</td>\n",
       "      <td>FreeCodeCamp</td>\n",
       "      <td>Greg working on Electron-Vue boilerplate w/ Ak...</td>\n",
       "      <td>10122</td>\n",
       "      <td>163747</td>\n",
       "    </tr>\n",
       "    <tr>\n",
       "      <th>4</th>\n",
       "      <td>86238744</td>\n",
       "      <td>storbeck</td>\n",
       "      <td>None</td>\n",
       "      <td>10</td>\n",
       "      <td>1019</td>\n",
       "    </tr>\n",
       "  </tbody>\n",
       "</table>\n",
       "</div>"
      ],
      "text/plain": [
       "        _id  display_name                                             status  \\\n",
       "0  30220059       ESL_SC2  RERUN: StarCraft 2 - Terminator vs. Parting (P...   \n",
       "1  71852806    OgamingSC2               UnderDogs - Rediffusion - Qualifier.   \n",
       "2  90401618     cretetion                         It's a Divison kind of Day   \n",
       "3  79776140  FreeCodeCamp  Greg working on Electron-Vue boilerplate w/ Ak...   \n",
       "4  86238744      storbeck                                               None   \n",
       "\n",
       "   followers     views  \n",
       "0     135394  60991791  \n",
       "1      40895  20694507  \n",
       "2        908     11631  \n",
       "3      10122    163747  \n",
       "4         10      1019  "
      ]
     },
     "execution_count": 14,
     "metadata": {},
     "output_type": "execute_result"
    }
   ],
   "source": [
    "# preview first 5 entries\n",
    "dataset.head()"
   ]
  },
  {
   "cell_type": "code",
   "execution_count": 15,
   "metadata": {},
   "outputs": [
    {
     "data": {
      "text/html": [
       "<div>\n",
       "<style scoped>\n",
       "    .dataframe tbody tr th:only-of-type {\n",
       "        vertical-align: middle;\n",
       "    }\n",
       "\n",
       "    .dataframe tbody tr th {\n",
       "        vertical-align: top;\n",
       "    }\n",
       "\n",
       "    .dataframe thead th {\n",
       "        text-align: right;\n",
       "    }\n",
       "</style>\n",
       "<table border=\"1\" class=\"dataframe\">\n",
       "  <thead>\n",
       "    <tr style=\"text-align: right;\">\n",
       "      <th></th>\n",
       "      <th>_id</th>\n",
       "      <th>display_name</th>\n",
       "      <th>status</th>\n",
       "      <th>followers</th>\n",
       "      <th>views</th>\n",
       "    </tr>\n",
       "  </thead>\n",
       "  <tbody>\n",
       "    <tr>\n",
       "      <th>3</th>\n",
       "      <td>79776140</td>\n",
       "      <td>FreeCodeCamp</td>\n",
       "      <td>Greg working on Electron-Vue boilerplate w/ Ak...</td>\n",
       "      <td>10122</td>\n",
       "      <td>163747</td>\n",
       "    </tr>\n",
       "    <tr>\n",
       "      <th>4</th>\n",
       "      <td>86238744</td>\n",
       "      <td>storbeck</td>\n",
       "      <td>None</td>\n",
       "      <td>10</td>\n",
       "      <td>1019</td>\n",
       "    </tr>\n",
       "    <tr>\n",
       "      <th>5</th>\n",
       "      <td>6726509</td>\n",
       "      <td>Habathcx</td>\n",
       "      <td>Massively Effective</td>\n",
       "      <td>14</td>\n",
       "      <td>764</td>\n",
       "    </tr>\n",
       "    <tr>\n",
       "      <th>6</th>\n",
       "      <td>54925078</td>\n",
       "      <td>RobotCaleb</td>\n",
       "      <td>Code wrangling</td>\n",
       "      <td>20</td>\n",
       "      <td>4602</td>\n",
       "    </tr>\n",
       "    <tr>\n",
       "      <th>7</th>\n",
       "      <td>82534701</td>\n",
       "      <td>noobs2ninjas</td>\n",
       "      <td>Building a new hackintosh for #programming and...</td>\n",
       "      <td>835</td>\n",
       "      <td>48102</td>\n",
       "    </tr>\n",
       "  </tbody>\n",
       "</table>\n",
       "</div>"
      ],
      "text/plain": [
       "        _id  display_name                                             status  \\\n",
       "3  79776140  FreeCodeCamp  Greg working on Electron-Vue boilerplate w/ Ak...   \n",
       "4  86238744      storbeck                                               None   \n",
       "5   6726509      Habathcx                                Massively Effective   \n",
       "6  54925078    RobotCaleb                                     Code wrangling   \n",
       "7  82534701  noobs2ninjas  Building a new hackintosh for #programming and...   \n",
       "\n",
       "   followers   views  \n",
       "3      10122  163747  \n",
       "4         10    1019  \n",
       "5         14     764  \n",
       "6         20    4602  \n",
       "7        835   48102  "
      ]
     },
     "execution_count": 15,
     "metadata": {},
     "output_type": "execute_result"
    }
   ],
   "source": [
    "# check last 5 entries\n",
    "dataset.tail()"
   ]
  },
  {
   "cell_type": "code",
   "execution_count": 19,
   "metadata": {},
   "outputs": [
    {
     "data": {
      "text/plain": [
       "_id              int64\n",
       "display_name    object\n",
       "status          object\n",
       "followers        int64\n",
       "views            int64\n",
       "dtype: object"
      ]
     },
     "execution_count": 19,
     "metadata": {},
     "output_type": "execute_result"
    }
   ],
   "source": [
    "# check the data types\n",
    "dataset.dtypes"
   ]
  },
  {
   "cell_type": "code",
   "execution_count": 20,
   "metadata": {},
   "outputs": [],
   "source": [
    "# drop invalid data\n",
    "dataset.dropna(axis = 0, how = 'any', inplace = True)"
   ]
  },
  {
   "cell_type": "code",
   "execution_count": 21,
   "metadata": {},
   "outputs": [
    {
     "data": {
      "text/plain": [
       "7"
      ]
     },
     "execution_count": 21,
     "metadata": {},
     "output_type": "execute_result"
    }
   ],
   "source": [
    "len(dataset)"
   ]
  },
  {
   "cell_type": "code",
   "execution_count": 22,
   "metadata": {},
   "outputs": [],
   "source": [
    "# define index\n",
    "dataset.index = pd.RangeIndex(len(dataset.index))"
   ]
  },
  {
   "cell_type": "code",
   "execution_count": 23,
   "metadata": {},
   "outputs": [],
   "source": [
    "dataset.to_csv('tweets.csv')"
   ]
  },
  {
   "cell_type": "code",
   "execution_count": null,
   "metadata": {},
   "outputs": [],
   "source": []
  }
 ],
 "metadata": {
  "kernelspec": {
   "display_name": "Python 3",
   "language": "python",
   "name": "python3"
  },
  "language_info": {
   "codemirror_mode": {
    "name": "ipython",
    "version": 3
   },
   "file_extension": ".py",
   "mimetype": "text/x-python",
   "name": "python",
   "nbconvert_exporter": "python",
   "pygments_lexer": "ipython3",
   "version": "3.8.3"
  }
 },
 "nbformat": 4,
 "nbformat_minor": 4
}
