{
 "cells": [
  {
   "cell_type": "code",
   "execution_count": 1,
   "metadata": {},
   "outputs": [],
   "source": [
    "import pandas as pd\n",
    "import numpy as np"
   ]
  },
  {
   "cell_type": "code",
   "execution_count": 2,
   "metadata": {},
   "outputs": [],
   "source": [
    "invalid_values = ['..']\n",
    "excel_file = pd.read_excel('data.xlsx', sheet_name='production', na_values=invalid_values)"
   ]
  },
  {
   "cell_type": "code",
   "execution_count": 3,
   "metadata": {},
   "outputs": [
    {
     "data": {
      "text/plain": [
       "36599"
      ]
     },
     "execution_count": 3,
     "metadata": {},
     "output_type": "execute_result"
    }
   ],
   "source": [
    "df = pd.DataFrame(excel_file)\n",
    "len(df)"
   ]
  },
  {
   "cell_type": "code",
   "execution_count": 4,
   "metadata": {},
   "outputs": [
    {
     "name": "stdout",
     "output_type": "stream",
     "text": [
      "<class 'pandas.core.frame.DataFrame'>\n",
      "RangeIndex: 36599 entries, 0 to 36598\n",
      "Data columns (total 5 columns):\n",
      " #   Column           Non-Null Count  Dtype  \n",
      "---  ------           --------------  -----  \n",
      " 0   Commodity        36599 non-null  object \n",
      " 1   Area Type        36599 non-null  object \n",
      " 2   Area             36599 non-null  object \n",
      " 3   Year             36599 non-null  int64  \n",
      " 4   Production (mt)  32141 non-null  float64\n",
      "dtypes: float64(1), int64(1), object(3)\n",
      "memory usage: 1.4+ MB\n"
     ]
    }
   ],
   "source": [
    "df.info()"
   ]
  },
  {
   "cell_type": "code",
   "execution_count": 5,
   "metadata": {},
   "outputs": [
    {
     "name": "stdout",
     "output_type": "stream",
     "text": [
      "<class 'pandas.core.frame.DataFrame'>\n",
      "RangeIndex: 36599 entries, 0 to 36598\n",
      "Data columns (total 5 columns):\n",
      " #   Column      Non-Null Count  Dtype  \n",
      "---  ------      --------------  -----  \n",
      " 0   commodity   36599 non-null  object \n",
      " 1   area_type   36599 non-null  object \n",
      " 2   area        36599 non-null  object \n",
      " 3   year        36599 non-null  int64  \n",
      " 4   production  32141 non-null  float64\n",
      "dtypes: float64(1), int64(1), object(3)\n",
      "memory usage: 1.4+ MB\n"
     ]
    }
   ],
   "source": [
    "df.columns = ['commodity','area_type','area','year','production']\n",
    "df.info()"
   ]
  },
  {
   "cell_type": "code",
   "execution_count": 6,
   "metadata": {},
   "outputs": [
    {
     "data": {
      "text/plain": [
       "0         59418.00\n",
       "1         63990.83\n",
       "2         62684.00\n",
       "3         59516.83\n",
       "4         66410.00\n",
       "           ...    \n",
       "36594    165462.00\n",
       "36595    165578.00\n",
       "36596    150614.00\n",
       "36597    142064.00\n",
       "36598    141541.00\n",
       "Name: production, Length: 36599, dtype: float64"
      ]
     },
     "execution_count": 6,
     "metadata": {},
     "output_type": "execute_result"
    }
   ],
   "source": [
    "df['production'].astype('float')"
   ]
  },
  {
   "cell_type": "code",
   "execution_count": 7,
   "metadata": {},
   "outputs": [
    {
     "data": {
      "text/plain": [
       "1397"
      ]
     },
     "execution_count": 7,
     "metadata": {},
     "output_type": "execute_result"
    }
   ],
   "source": [
    "df = df[(df['area_type']=='Provincial') & (df['commodity']=='Abaca')]\n",
    "df['area'] = df.area.str.replace('\\..', '')\n",
    "len(df)"
   ]
  },
  {
   "cell_type": "code",
   "execution_count": 8,
   "metadata": {},
   "outputs": [
    {
     "data": {
      "text/html": [
       "<div>\n",
       "<style scoped>\n",
       "    .dataframe tbody tr th:only-of-type {\n",
       "        vertical-align: middle;\n",
       "    }\n",
       "\n",
       "    .dataframe tbody tr th {\n",
       "        vertical-align: top;\n",
       "    }\n",
       "\n",
       "    .dataframe thead th {\n",
       "        text-align: right;\n",
       "    }\n",
       "</style>\n",
       "<table border=\"1\" class=\"dataframe\">\n",
       "  <thead>\n",
       "    <tr style=\"text-align: right;\">\n",
       "      <th></th>\n",
       "      <th>commodity</th>\n",
       "      <th>area_type</th>\n",
       "      <th>area</th>\n",
       "      <th>year</th>\n",
       "      <th>production</th>\n",
       "    </tr>\n",
       "  </thead>\n",
       "  <tbody>\n",
       "    <tr>\n",
       "      <th>1706</th>\n",
       "      <td>Abaca</td>\n",
       "      <td>Provincial</td>\n",
       "      <td>Lanao del Sur</td>\n",
       "      <td>2002</td>\n",
       "      <td>1205.50</td>\n",
       "    </tr>\n",
       "    <tr>\n",
       "      <th>542</th>\n",
       "      <td>Abaca</td>\n",
       "      <td>Provincial</td>\n",
       "      <td>Iloilo</td>\n",
       "      <td>2005</td>\n",
       "      <td>295.04</td>\n",
       "    </tr>\n",
       "    <tr>\n",
       "      <th>1192</th>\n",
       "      <td>Abaca</td>\n",
       "      <td>Provincial</td>\n",
       "      <td>Misamis Oriental</td>\n",
       "      <td>2007</td>\n",
       "      <td>74.33</td>\n",
       "    </tr>\n",
       "    <tr>\n",
       "      <th>842</th>\n",
       "      <td>Abaca</td>\n",
       "      <td>Provincial</td>\n",
       "      <td>Samar</td>\n",
       "      <td>1994</td>\n",
       "      <td>5672.00</td>\n",
       "    </tr>\n",
       "    <tr>\n",
       "      <th>530</th>\n",
       "      <td>Abaca</td>\n",
       "      <td>Provincial</td>\n",
       "      <td>Iloilo</td>\n",
       "      <td>1993</td>\n",
       "      <td>244.00</td>\n",
       "    </tr>\n",
       "    <tr>\n",
       "      <th>520</th>\n",
       "      <td>Abaca</td>\n",
       "      <td>Provincial</td>\n",
       "      <td>Capiz</td>\n",
       "      <td>2012</td>\n",
       "      <td>19.80</td>\n",
       "    </tr>\n",
       "    <tr>\n",
       "      <th>371</th>\n",
       "      <td>Abaca</td>\n",
       "      <td>Provincial</td>\n",
       "      <td>Catanduanes</td>\n",
       "      <td>1998</td>\n",
       "      <td>13325.00</td>\n",
       "    </tr>\n",
       "    <tr>\n",
       "      <th>857</th>\n",
       "      <td>Abaca</td>\n",
       "      <td>Provincial</td>\n",
       "      <td>Samar</td>\n",
       "      <td>2009</td>\n",
       "      <td>1729.00</td>\n",
       "    </tr>\n",
       "    <tr>\n",
       "      <th>1238</th>\n",
       "      <td>Abaca</td>\n",
       "      <td>Provincial</td>\n",
       "      <td>Compostela Valley</td>\n",
       "      <td>2004</td>\n",
       "      <td>360.17</td>\n",
       "    </tr>\n",
       "    <tr>\n",
       "      <th>1115</th>\n",
       "      <td>Abaca</td>\n",
       "      <td>Provincial</td>\n",
       "      <td>Camiguin</td>\n",
       "      <td>2017</td>\n",
       "      <td>19.02</td>\n",
       "    </tr>\n",
       "  </tbody>\n",
       "</table>\n",
       "</div>"
      ],
      "text/plain": [
       "     commodity   area_type               area  year  production\n",
       "1706     Abaca  Provincial      Lanao del Sur  2002     1205.50\n",
       "542      Abaca  Provincial             Iloilo  2005      295.04\n",
       "1192     Abaca  Provincial   Misamis Oriental  2007       74.33\n",
       "842      Abaca  Provincial              Samar  1994     5672.00\n",
       "530      Abaca  Provincial             Iloilo  1993      244.00\n",
       "520      Abaca  Provincial              Capiz  2012       19.80\n",
       "371      Abaca  Provincial        Catanduanes  1998    13325.00\n",
       "857      Abaca  Provincial              Samar  2009     1729.00\n",
       "1238     Abaca  Provincial  Compostela Valley  2004      360.17\n",
       "1115     Abaca  Provincial           Camiguin  2017       19.02"
      ]
     },
     "execution_count": 8,
     "metadata": {},
     "output_type": "execute_result"
    }
   ],
   "source": [
    "df.sample(10)"
   ]
  },
  {
   "cell_type": "code",
   "execution_count": 10,
   "metadata": {},
   "outputs": [
    {
     "data": {
      "text/html": [
       "<div>\n",
       "<style scoped>\n",
       "    .dataframe tbody tr th:only-of-type {\n",
       "        vertical-align: middle;\n",
       "    }\n",
       "\n",
       "    .dataframe tbody tr th {\n",
       "        vertical-align: top;\n",
       "    }\n",
       "\n",
       "    .dataframe thead th {\n",
       "        text-align: right;\n",
       "    }\n",
       "</style>\n",
       "<table border=\"1\" class=\"dataframe\">\n",
       "  <thead>\n",
       "    <tr style=\"text-align: right;\">\n",
       "      <th></th>\n",
       "      <th>commodity</th>\n",
       "      <th>area_type</th>\n",
       "      <th>area</th>\n",
       "      <th>year</th>\n",
       "      <th>production</th>\n",
       "      <th>area_cat</th>\n",
       "    </tr>\n",
       "  </thead>\n",
       "  <tbody>\n",
       "    <tr>\n",
       "      <th>80</th>\n",
       "      <td>Abaca</td>\n",
       "      <td>Provincial</td>\n",
       "      <td>Aurora</td>\n",
       "      <td>1996</td>\n",
       "      <td>26.00</td>\n",
       "      <td>5</td>\n",
       "    </tr>\n",
       "    <tr>\n",
       "      <th>1263</th>\n",
       "      <td>Abaca</td>\n",
       "      <td>Provincial</td>\n",
       "      <td>Davao del Norte</td>\n",
       "      <td>2000</td>\n",
       "      <td>205.54</td>\n",
       "      <td>21</td>\n",
       "    </tr>\n",
       "    <tr>\n",
       "      <th>357</th>\n",
       "      <td>Abaca</td>\n",
       "      <td>Provincial</td>\n",
       "      <td>Camarines Sur</td>\n",
       "      <td>2013</td>\n",
       "      <td>911.91</td>\n",
       "      <td>11</td>\n",
       "    </tr>\n",
       "    <tr>\n",
       "      <th>523</th>\n",
       "      <td>Abaca</td>\n",
       "      <td>Provincial</td>\n",
       "      <td>Capiz</td>\n",
       "      <td>2015</td>\n",
       "      <td>93.05</td>\n",
       "      <td>13</td>\n",
       "    </tr>\n",
       "    <tr>\n",
       "      <th>1595</th>\n",
       "      <td>Abaca</td>\n",
       "      <td>Provincial</td>\n",
       "      <td>Surigao del Norte</td>\n",
       "      <td>1998</td>\n",
       "      <td>180.00</td>\n",
       "      <td>49</td>\n",
       "    </tr>\n",
       "    <tr>\n",
       "      <th>1433</th>\n",
       "      <td>Abaca</td>\n",
       "      <td>Provincial</td>\n",
       "      <td>Sarangani</td>\n",
       "      <td>2003</td>\n",
       "      <td>552.34</td>\n",
       "      <td>43</td>\n",
       "    </tr>\n",
       "    <tr>\n",
       "      <th>45</th>\n",
       "      <td>Abaca</td>\n",
       "      <td>Provincial</td>\n",
       "      <td>Mountain Province</td>\n",
       "      <td>2011</td>\n",
       "      <td>13.08</td>\n",
       "      <td>33</td>\n",
       "    </tr>\n",
       "    <tr>\n",
       "      <th>779</th>\n",
       "      <td>Abaca</td>\n",
       "      <td>Provincial</td>\n",
       "      <td>Eastern Samar</td>\n",
       "      <td>2018</td>\n",
       "      <td>18.10</td>\n",
       "      <td>23</td>\n",
       "    </tr>\n",
       "    <tr>\n",
       "      <th>223</th>\n",
       "      <td>Abaca</td>\n",
       "      <td>Provincial</td>\n",
       "      <td>Oriental Mindoro</td>\n",
       "      <td>2012</td>\n",
       "      <td>72.65</td>\n",
       "      <td>37</td>\n",
       "    </tr>\n",
       "    <tr>\n",
       "      <th>1704</th>\n",
       "      <td>Abaca</td>\n",
       "      <td>Provincial</td>\n",
       "      <td>Lanao del Sur</td>\n",
       "      <td>2000</td>\n",
       "      <td>992.07</td>\n",
       "      <td>27</td>\n",
       "    </tr>\n",
       "  </tbody>\n",
       "</table>\n",
       "</div>"
      ],
      "text/plain": [
       "     commodity   area_type               area  year  production  area_cat\n",
       "80       Abaca  Provincial             Aurora  1996       26.00         5\n",
       "1263     Abaca  Provincial    Davao del Norte  2000      205.54        21\n",
       "357      Abaca  Provincial      Camarines Sur  2013      911.91        11\n",
       "523      Abaca  Provincial              Capiz  2015       93.05        13\n",
       "1595     Abaca  Provincial  Surigao del Norte  1998      180.00        49\n",
       "1433     Abaca  Provincial          Sarangani  2003      552.34        43\n",
       "45       Abaca  Provincial  Mountain Province  2011       13.08        33\n",
       "779      Abaca  Provincial      Eastern Samar  2018       18.10        23\n",
       "223      Abaca  Provincial   Oriental Mindoro  2012       72.65        37\n",
       "1704     Abaca  Provincial      Lanao del Sur  2000      992.07        27"
      ]
     },
     "execution_count": 10,
     "metadata": {},
     "output_type": "execute_result"
    }
   ],
   "source": [
    "df['area'] = df['area'].astype('category')\n",
    "df['area_cat'] = df['area'].cat.codes\n",
    "df.sample(10)"
   ]
  },
  {
   "cell_type": "code",
   "execution_count": null,
   "metadata": {},
   "outputs": [],
   "source": []
  }
 ],
 "metadata": {
  "kernelspec": {
   "display_name": "Python 3",
   "language": "python",
   "name": "python3"
  },
  "language_info": {
   "codemirror_mode": {
    "name": "ipython",
    "version": 3
   },
   "file_extension": ".py",
   "mimetype": "text/x-python",
   "name": "python",
   "nbconvert_exporter": "python",
   "pygments_lexer": "ipython3",
   "version": "3.7.6"
  }
 },
 "nbformat": 4,
 "nbformat_minor": 4
}
