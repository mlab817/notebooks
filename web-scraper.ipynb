{
 "cells": [
  {
   "cell_type": "code",
   "execution_count": 1,
   "metadata": {},
   "outputs": [],
   "source": [
    "# !pip install selenium\n",
    "# !pip install bs4\n",
    "# from selenium import webdriver\n",
    "# from bs4 import BeautifulSoup\n",
    "# !pip install requests\n",
    "# !pip install lxml\n",
    "from bs4 import BeautifulSoup\n",
    "import pandas as pd\n",
    "import requests\n",
    "from lxml import html\n",
    "import pprint\n",
    "\n",
    "pp = pprint.PrettyPrinter(depth=6)"
   ]
  },
  {
   "cell_type": "code",
   "execution_count": 2,
   "metadata": {},
   "outputs": [],
   "source": [
    "# create a session object\n",
    "session = requests.session()"
   ]
  },
  {
   "cell_type": "code",
   "execution_count": 3,
   "metadata": {},
   "outputs": [],
   "source": [
    "# login\n",
    "login_url = 'https://www.basebrick.com/login.php'\n",
    "# check payload submitted\n",
    "payload = {\n",
    "    'action': 'login',\n",
    "    'email': 'mlab817@gmail.com',\n",
    "    'password': 'marklester'\n",
    "}\n",
    "# do the request\n",
    "result = session.post(login_url, data=payload)"
   ]
  },
  {
   "cell_type": "code",
   "execution_count": 4,
   "metadata": {},
   "outputs": [],
   "source": [
    "URL = 'https://www.basebrick.com/listdata.php?userid=9582'\n",
    "# use session while fetching\n",
    "page = session.get(URL)"
   ]
  },
  {
   "cell_type": "code",
   "execution_count": 5,
   "metadata": {},
   "outputs": [],
   "source": [
    "# check successful login\n",
    "# print(page.content)\n",
    "soup = BeautifulSoup(page.content, 'html.parser')"
   ]
  },
  {
   "cell_type": "code",
   "execution_count": 6,
   "metadata": {},
   "outputs": [],
   "source": [
    "table = soup.find('table', { 'class': 'datatable' })"
   ]
  },
  {
   "cell_type": "code",
   "execution_count": 7,
   "metadata": {},
   "outputs": [
    {
     "name": "stdout",
     "output_type": "stream",
     "text": [
      "[<td align=\"RIGHT\" class=\"tablehead_my\"># </td>,\n",
      " <td class=\"tableheadvali_my\"> </td>,\n",
      " <td class=\"tablehead_my\"><a class=\"tblhead\" href=\"listdata.php?userid=9582&amp;page=0&amp;order=category&amp;desc=1\" title=\"Order by Category\">Part Category</a> </td>,\n",
      " <td class=\"tablehead_my\"><a class=\"tblhead\" href=\"listdata.php?userid=9582&amp;page=0&amp;order=partnumber\" title=\"Order by Part number\">Part No</a> </td>,\n",
      " <td class=\"tableheadvali_my\"> </td>,\n",
      " <td class=\"tablehead_my\"><a class=\"tblhead\" href=\"listdata.php?userid=9582&amp;page=0&amp;order=description\" title=\"Order by Description\">Description</a> </td>,\n",
      " <td align=\"center\" class=\"tablehead_my\"> Img </td>,\n",
      " <td class=\"tablehead_my\"> <a class=\"tblhead\" href=\"listdata.php?userid=9582&amp;page=0&amp;order=quantity\" title=\"Order by Quantity\">Q</a> <a class=\"tblhead\" href=\"listdata.php?userid=9582&amp;page=0&amp;order=colorsort\" title=\"Order by Color\">C</a> <a class=\"tblhead\" href=\"listdata.php?userid=9582&amp;page=0&amp;order=status\" title=\"Order by Status\">S</a> <a class=\"tblhead\" href=\"listdata.php?userid=9582&amp;page=0&amp;order=updated&amp;desc=1\" title=\"Order by Update time\">U</a> <a class=\"tblhead\" href=\"listdata.php?userid=9582&amp;page=0&amp;order=inserted&amp;desc=1\" title=\"Order by Insertion time\">I</a> </td>,\n",
      " <td align=\"center\" class=\"tablehead_my\"> <font class=\"highlighttext\" title=\"Parts available\">Av</font> </td>,\n",
      " <td align=\"center\" class=\"tablehead_my\"> Action </td>,\n",
      " <td class=\"tablehead_my\"> <input \"=\"\" class=\"\" form=\"cbox\" name=\"checkall\" onclick=\"checkedAll();\" type=\"checkbox\"/> </td>,\n",
      " <td class=\"tablehead_my\"> My notes </td>,\n",
      " <td align=\"left\" class=\"tablehead_my\"> Links </td>]\n",
      "[<td class=\"tablecell0\" colspan=\"13\"><a name=\"96874-4\"></a><img alt=\"\" border=\"0\" src=\"images/blank.gif\"/></td>]\n"
     ]
    }
   ],
   "source": [
    "for tr in table.find_all('tr')[:2]:\n",
    "    tds = tr.find_all('td')\n",
    "    pp.pprint(tds)"
   ]
  },
  {
   "cell_type": "code",
   "execution_count": null,
   "metadata": {},
   "outputs": [],
   "source": []
  }
 ],
 "metadata": {
  "kernelspec": {
   "display_name": "Python 3",
   "language": "python",
   "name": "python3"
  },
  "language_info": {
   "codemirror_mode": {
    "name": "ipython",
    "version": 3
   },
   "file_extension": ".py",
   "mimetype": "text/x-python",
   "name": "python",
   "nbconvert_exporter": "python",
   "pygments_lexer": "ipython3",
   "version": "3.7.6"
  }
 },
 "nbformat": 4,
 "nbformat_minor": 4
}
